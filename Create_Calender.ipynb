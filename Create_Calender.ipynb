{
 "cells": [
  {
   "cell_type": "markdown",
   "metadata": {},
   "source": [
    "# Real Responsive Calender"
   ]
  },
  {
   "cell_type": "code",
   "execution_count": 1,
   "metadata": {},
   "outputs": [],
   "source": [
    "from PyQt5.QtWidgets import*\n",
    "from PyQt5 import QtCore, QtGui\n",
    "from PyQt5.QtGui import*\n",
    "from PyQt5.QtCore import*\n",
    "import sys"
   ]
  },
  {
   "cell_type": "code",
   "execution_count": 2,
   "metadata": {},
   "outputs": [],
   "source": [
    "class Window(QMainWindow):\n",
    "    \n",
    "    def __init__(self):\n",
    "        \n",
    "        super().__init__()\n",
    "        self.setWindowTitle(\"PyCode\")\n",
    "        self.setGeometry(100, 100, 600, 400)\n",
    "        self.UiComponents()\n",
    "        self.show()\n",
    "        \n",
    "    def UiComponents(self):\n",
    "        \n",
    "        calender = QCalendarWidget(self)\n",
    "        calender.setGeometry(10, 5, 400, 250)\n",
    "        push = QPushButton(\"next year\", self)\n",
    "        push.setGeometry(120, 280, 100, 40)\n",
    "        push.clicked.connect(lambda: do_action())\n",
    "        \n",
    "        def do_action():\n",
    "            calender.showNextYear()      "
   ]
  },
  {
   "cell_type": "code",
   "execution_count": 3,
   "metadata": {
    "collapsed": true
   },
   "outputs": [
    {
     "ename": "SystemExit",
     "evalue": "0",
     "output_type": "error",
     "traceback": [
      "An exception has occurred, use %tb to see the full traceback.\n",
      "\u001b[1;31mSystemExit\u001b[0m\u001b[1;31m:\u001b[0m 0\n"
     ]
    },
    {
     "name": "stderr",
     "output_type": "stream",
     "text": [
      "F:\\Anaconda\\lib\\site-packages\\IPython\\core\\interactiveshell.py:3426: UserWarning: To exit: use 'exit', 'quit', or Ctrl-D.\n",
      "  warn(\"To exit: use 'exit', 'quit', or Ctrl-D.\", stacklevel=1)\n"
     ]
    }
   ],
   "source": [
    "App = QApplication(sys.argv)\n",
    "window = Window()\n",
    "sys.exit(App.exec())"
   ]
  }
 ],
 "metadata": {
  "kernelspec": {
   "display_name": "Python 3",
   "language": "python",
   "name": "python3"
  },
  "language_info": {
   "codemirror_mode": {
    "name": "ipython",
    "version": 3
   },
   "file_extension": ".py",
   "mimetype": "text/x-python",
   "name": "python",
   "nbconvert_exporter": "python",
   "pygments_lexer": "ipython3",
   "version": "3.8.5"
  }
 },
 "nbformat": 4,
 "nbformat_minor": 4
}
